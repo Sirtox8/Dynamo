{
 "cells": [
  {
   "cell_type": "code",
   "execution_count": 1,
   "metadata": {},
   "outputs": [
    {
     "name": "stdout",
     "output_type": "stream",
     "text": [
      "CONEXION EXITOSA\n"
     ]
    }
   ],
   "source": [
    "import boto3\n",
    "from boto3.dynamodb.conditions import Key, Attr\n",
    "from dotenv import load_dotenv\n",
    "import os\n",
    "import time\n",
    "from botocore.exceptions import NoCredentialsError, PartialCredentialsError\n",
    "\n",
    "\n",
    "# Load environment variables from a .env file\n",
    "load_dotenv()\n",
    "# Retrieve the environment variables\n",
    "aws_access_key_id = os.getenv('AWS_ACCESS_KEY_ID')\n",
    "aws_secret_access_key = os.getenv('AWS_SECRET_ACCESS_KEY')\n",
    "aws_session_token = os.getenv('AWS_SESSION_TOKEN')\n",
    "region_name = os.getenv('AWS_REGION')\n",
    "\n",
    "# Initialize a session using Amazon DynamoDB\n",
    "session = boto3.Session(\n",
    "    aws_access_key_id=aws_access_key_id,\n",
    "    aws_secret_access_key=aws_secret_access_key,\n",
    "    aws_session_token=aws_session_token,\n",
    "    region_name=region_name\n",
    ")\n",
    "\n",
    "dynamodb = session.resource('dynamodb')\n",
    "print(\"CONEXION EXITOSA\")\n",
    "\n"
   ]
  },
  {
   "cell_type": "markdown",
   "metadata": {},
   "source": [
    "1 -Crear al menos 3 tablas con dos atributos cada una "
   ]
  },
  {
   "cell_type": "code",
   "execution_count": 2,
   "metadata": {},
   "outputs": [
    {
     "name": "stdout",
     "output_type": "stream",
     "text": [
      "Tabla Usuarios creada correctamente\n",
      "Tabla Productos creada correctamente\n",
      "Tabla Pedidos creada correctamente\n"
     ]
    }
   ],
   "source": [
    "# Función para crear tablas\n",
    "def create_tables():\n",
    "    try:\n",
    "        for table_name, pk in [(\"Usuarios\", \"UserID\"), (\"Productos\", \"ProductoID\"), (\"Pedidos\", \"PedidoID\")]:\n",
    "            table = dynamodb.create_table(\n",
    "                TableName=table_name,\n",
    "                KeySchema=[{\"AttributeName\": pk, \"KeyType\": \"HASH\"}],\n",
    "                AttributeDefinitions=[{\"AttributeName\": pk, \"AttributeType\": \"S\"}],\n",
    "                ProvisionedThroughput={\"ReadCapacityUnits\": 5, \"WriteCapacityUnits\": 5}\n",
    "            )\n",
    "            table.wait_until_exists()\n",
    "            print(f\"Tabla {table_name} creada correctamente\")\n",
    "    except Exception as e:\n",
    "        print(f\"Error: {e}\")\n",
    "\n",
    "create_tables()"
   ]
  },
  {
   "cell_type": "markdown",
   "metadata": {},
   "source": [
    "2 - Crear tres registros encada tabla"
   ]
  },
  {
   "cell_type": "code",
   "execution_count": 3,
   "metadata": {},
   "outputs": [
    {
     "name": "stdout",
     "output_type": "stream",
     "text": [
      "Registros insertados correctamente\n"
     ]
    }
   ],
   "source": [
    "def insertar_registros():\n",
    "    try:\n",
    "        usuarios = [\n",
    "            {\"UserID\": \"U1\", \"Nombre\": \"Alice\", \"Edad\": 30},\n",
    "            {\"UserID\": \"U2\", \"Nombre\": \"Bob\", \"Edad\": 25},\n",
    "            {\"UserID\": \"U3\", \"Nombre\": \"Charlie\", \"Edad\": 35},\n",
    "            {\"UserID\": \"U4\", \"Nombre\": \"David\", \"Edad\": 40}\n",
    "        ]\n",
    "        \n",
    "        productos = [\n",
    "            {\"ProductoID\": \"P1\", \"Nombre\": \"Laptop\", \"Precio\": 1000},\n",
    "            {\"ProductoID\": \"P2\", \"Nombre\": \"Mouse\", \"Precio\": 20},\n",
    "            {\"ProductoID\": \"P3\", \"Nombre\": \"Teclado\", \"Precio\": 50},\n",
    "            {\"ProductoID\": \"P4\", \"Nombre\": \"Monitor\", \"Precio\": 200}\n",
    "        ]\n",
    "        \n",
    "        pedidos = [\n",
    "            {\"PedidoID\": \"O1\", \"Cliente\": \"Alice\", \"ProductoID\": \"P1\"},\n",
    "            {\"PedidoID\": \"O2\", \"Cliente\": \"Bob\", \"ProductoID\": \"P2\"},\n",
    "            {\"PedidoID\": \"O3\", \"Cliente\": \"Charlie\", \"ProductoID\": \"P3\"},\n",
    "            {\"PedidoID\": \"O4\", \"Cliente\": \"David\", \"ProductoID\": \"P4\"}\n",
    "        ]\n",
    "        \n",
    "        for usuario in usuarios:\n",
    "            table = dynamodb.Table(\"Usuarios\")\n",
    "            table.put_item(Item=usuario)\n",
    "        \n",
    "        for producto in productos:\n",
    "            table = dynamodb.Table(\"Productos\")\n",
    "            table.put_item(Item=producto)\n",
    "        \n",
    "        for pedido in pedidos:\n",
    "            table = dynamodb.Table(\"Pedidos\")\n",
    "            table.put_item(Item=pedido)\n",
    "        \n",
    "        print(\"Registros insertados correctamente\")\n",
    "    except Exception as e:\n",
    "        print(f\"Error al insertar registros: {e}\")\n",
    "\n",
    "insertar_registros()"
   ]
  },
  {
   "cell_type": "markdown",
   "metadata": {},
   "source": [
    "3 - Obtener un registro de cada tabla "
   ]
  },
  {
   "cell_type": "code",
   "execution_count": 4,
   "metadata": {},
   "outputs": [
    {
     "name": "stdout",
     "output_type": "stream",
     "text": [
      "Registro en la tabla Usuarios: {'Nombre': 'Alice', 'UserID': 'U1', 'Edad': Decimal('30')}\n",
      "Registro en la tabla Productos: {'Precio': Decimal('1000'), 'Nombre': 'Laptop', 'ProductoID': 'P1'}\n",
      "Registro en la tabla Pedidos: {'Cliente': 'Alice', 'PedidoID': 'O1', 'ProductoID': 'P1'}\n"
     ]
    }
   ],
   "source": [
    "def obtener_un_registro():\n",
    "    try:\n",
    "        keys = {\n",
    "            \"Usuarios\": {\"UserID\": \"U1\"},\n",
    "            \"Productos\": {\"ProductoID\": \"P1\"},\n",
    "            \"Pedidos\": {\"PedidoID\": \"O1\"}\n",
    "        }\n",
    "        \n",
    "        for table_name, key in keys.items():\n",
    "            table = dynamodb.Table(table_name)\n",
    "            response = table.get_item(Key=key)\n",
    "            item = response.get('Item', {})\n",
    "            print(f\"Registro en la tabla {table_name}: {item}\")\n",
    "    except Exception as e:\n",
    "        print(f\"Error al obtener un registro: {e}\")\n",
    "\n",
    "obtener_un_registro()"
   ]
  },
  {
   "cell_type": "markdown",
   "metadata": {},
   "source": [
    "4 - Actualizar un registro de cada tabla"
   ]
  },
  {
   "cell_type": "code",
   "execution_count": 5,
   "metadata": {},
   "outputs": [
    {
     "name": "stdout",
     "output_type": "stream",
     "text": [
      "Registro actualizado en la tabla Usuarios: {'UserID': 'U1'}\n",
      "Registro actualizado en la tabla Productos: {'ProductoID': 'P1'}\n",
      "Registro actualizado en la tabla Pedidos: {'PedidoID': 'O1'}\n"
     ]
    }
   ],
   "source": [
    "def actualizar_registros():\n",
    "    try:\n",
    "        updates = [\n",
    "            (\"Usuarios\", {\"UserID\": \"U1\"}, \"SET Nombre = :nombre\", {\":nombre\": \"Alice Updated\"}),\n",
    "            (\"Productos\", {\"ProductoID\": \"P1\"}, \"SET Nombre = :nombre\", {\":nombre\": \"Laptop Updated\"}),\n",
    "            (\"Pedidos\", {\"PedidoID\": \"O1\"}, \"SET Cliente = :cliente\", {\":cliente\": \"Alice Updated\"})\n",
    "        ]\n",
    "        \n",
    "        for table_name, key, update_expression, expression_attribute_values in updates:\n",
    "            table = dynamodb.Table(table_name)\n",
    "            table.update_item(\n",
    "                Key=key,\n",
    "                UpdateExpression=update_expression,\n",
    "                ExpressionAttributeValues=expression_attribute_values\n",
    "            )\n",
    "            print(f\"Registro actualizado en la tabla {table_name}: {key}\")\n",
    "    except Exception as e:\n",
    "        print(f\"Error al actualizar registros: {e}\")\n",
    "\n",
    "actualizar_registros()"
   ]
  },
  {
   "cell_type": "markdown",
   "metadata": {},
   "source": [
    "5 - Eliminar un registro de cada tabla "
   ]
  },
  {
   "cell_type": "code",
   "execution_count": 6,
   "metadata": {},
   "outputs": [
    {
     "name": "stdout",
     "output_type": "stream",
     "text": [
      "Registro eliminado en la tabla Usuarios: {'UserID': 'U1'}\n",
      "Registro eliminado en la tabla Productos: {'ProductoID': 'P1'}\n",
      "Registro eliminado en la tabla Pedidos: {'PedidoID': 'O1'}\n"
     ]
    }
   ],
   "source": [
    "def eliminar_registros():\n",
    "    try:\n",
    "        keys = {\n",
    "            \"Usuarios\": {\"UserID\": \"U1\"},\n",
    "            \"Productos\": {\"ProductoID\": \"P1\"},\n",
    "            \"Pedidos\": {\"PedidoID\": \"O1\"}\n",
    "        }\n",
    "        \n",
    "        for table_name, key in keys.items():\n",
    "            table = dynamodb.Table(table_name)\n",
    "            table.delete_item(Key=key)\n",
    "            print(f\"Registro eliminado en la tabla {table_name}: {key}\")\n",
    "    except Exception as e:\n",
    "        print(f\"Error al eliminar registros: {e}\")\n",
    "\n",
    "eliminar_registros()"
   ]
  },
  {
   "cell_type": "markdown",
   "metadata": {},
   "source": [
    "6 - Obtener todos los registros de cada tabla"
   ]
  },
  {
   "cell_type": "code",
   "execution_count": 7,
   "metadata": {},
   "outputs": [
    {
     "name": "stdout",
     "output_type": "stream",
     "text": [
      "Registros en la tabla Usuarios: [{'Nombre': 'David', 'UserID': 'U4', 'Edad': Decimal('40')}, {'Nombre': 'Charlie', 'UserID': 'U3', 'Edad': Decimal('35')}, {'Nombre': 'Bob', 'UserID': 'U2', 'Edad': Decimal('25')}]\n",
      "Registros en la tabla Productos: [{'Precio': Decimal('20'), 'Nombre': 'Mouse', 'ProductoID': 'P2'}, {'Precio': Decimal('50'), 'Nombre': 'Teclado', 'ProductoID': 'P3'}, {'Precio': Decimal('200'), 'Nombre': 'Monitor', 'ProductoID': 'P4'}]\n",
      "Registros en la tabla Pedidos: [{'Cliente': 'Charlie', 'PedidoID': 'O3', 'ProductoID': 'P3'}, {'Cliente': 'David', 'PedidoID': 'O4', 'ProductoID': 'P4'}, {'Cliente': 'Bob', 'PedidoID': 'O2', 'ProductoID': 'P2'}]\n"
     ]
    }
   ],
   "source": [
    "def obtener_todos_los_registros():\n",
    "    try:\n",
    "        table_names = [\"Usuarios\", \"Productos\", \"Pedidos\"]\n",
    "        \n",
    "        for table_name in table_names:\n",
    "            table = dynamodb.Table(table_name)\n",
    "            response = table.scan()\n",
    "            items = response.get('Items', [])\n",
    "            print(f\"Registros en la tabla {table_name}: {items}\")\n",
    "    except Exception as e:\n",
    "        print(f\"Error al obtener todos los registros: {e}\")\n",
    "\n",
    "obtener_todos_los_registros()"
   ]
  },
  {
   "cell_type": "markdown",
   "metadata": {},
   "source": [
    "7 - Obtener una conjunto de registros de un filtrado de cada tabla "
   ]
  },
  {
   "cell_type": "code",
   "execution_count": 8,
   "metadata": {},
   "outputs": [
    {
     "name": "stdout",
     "output_type": "stream",
     "text": [
      "Registros filtrados en la tabla Usuarios: [{'Nombre': 'David', 'UserID': 'U4', 'Edad': Decimal('40')}, {'Nombre': 'Charlie', 'UserID': 'U3', 'Edad': Decimal('35')}]\n",
      "Registros filtrados en la tabla Productos: [{'Precio': Decimal('200'), 'Nombre': 'Monitor', 'ProductoID': 'P4'}]\n",
      "Registros filtrados en la tabla Pedidos: []\n"
     ]
    }
   ],
   "source": [
    "def obtener_registros_filtrados():\n",
    "    try:\n",
    "        filtros = {\n",
    "            \"Usuarios\": Attr(\"Edad\").gt(30),\n",
    "            \"Productos\": Attr(\"Precio\").gt(50),\n",
    "            \"Pedidos\": Attr(\"Cliente\").eq(\"Alice Updated\")\n",
    "        }\n",
    "        \n",
    "        for table_name, filtro in filtros.items():\n",
    "            table = dynamodb.Table(table_name)\n",
    "            response = table.scan(FilterExpression=filtro)\n",
    "            items = response.get('Items', [])\n",
    "            print(f\"Registros filtrados en la tabla {table_name}: {items}\")\n",
    "    except Exception as e:\n",
    "        print(f\"Error al obtener registros filtrados: {e}\")\n",
    "\n",
    "obtener_registros_filtrados()"
   ]
  },
  {
   "cell_type": "markdown",
   "metadata": {},
   "source": [
    "8 - Realizar una eliminación condicional de cada tabla "
   ]
  },
  {
   "cell_type": "code",
   "execution_count": 9,
   "metadata": {},
   "outputs": [
    {
     "name": "stdout",
     "output_type": "stream",
     "text": [
      "Registro eliminado condicionalmente en la tabla Usuarios: {'UserID': 'U2'}\n",
      "Registro eliminado condicionalmente en la tabla Productos: {'ProductoID': 'P2'}\n",
      "Registro eliminado condicionalmente en la tabla Pedidos: {'PedidoID': 'O2'}\n"
     ]
    }
   ],
   "source": [
    "def eliminacion_condicional():\n",
    "    try:\n",
    "        condiciones = [\n",
    "            (\"Usuarios\", {\"UserID\": \"U2\"}, Attr(\"Edad\").lt(30)),\n",
    "            (\"Productos\", {\"ProductoID\": \"P2\"}, Attr(\"Precio\").lt(50)),\n",
    "            (\"Pedidos\", {\"PedidoID\": \"O2\"}, Attr(\"Cliente\").eq(\"Bob\"))\n",
    "        ]\n",
    "        \n",
    "        for table_name, key, condition in condiciones:\n",
    "            table = dynamodb.Table(table_name)\n",
    "            table.delete_item(\n",
    "                Key=key,\n",
    "                ConditionExpression=condition\n",
    "            )\n",
    "            print(f\"Registro eliminado condicionalmente en la tabla {table_name}: {key}\")\n",
    "    except Exception as e:\n",
    "        print(f\"Error al eliminar registros condicionalmente: {e}\")\n",
    "\n",
    "eliminacion_condicional()"
   ]
  },
  {
   "cell_type": "markdown",
   "metadata": {},
   "source": [
    "9 - Obtener un conjunto de datos a través de varios filtros aplicado en cada tabla"
   ]
  },
  {
   "cell_type": "code",
   "execution_count": 10,
   "metadata": {},
   "outputs": [
    {
     "name": "stdout",
     "output_type": "stream",
     "text": [
      "Registros filtrados en la tabla Usuarios con varios filtros: []\n",
      "Registros filtrados en la tabla Productos con varios filtros: [{'Precio': Decimal('50'), 'Nombre': 'Teclado', 'ProductoID': 'P3'}, {'Precio': Decimal('200'), 'Nombre': 'Monitor', 'ProductoID': 'P4'}]\n",
      "Registros filtrados en la tabla Pedidos con varios filtros: []\n"
     ]
    }
   ],
   "source": [
    "def obtener_registros_varios_filtros():\n",
    "    try:\n",
    "        filtros = {\n",
    "            \"Usuarios\": Attr(\"Edad\").between(25, 35) & Attr(\"Nombre\").begins_with(\"A\"),\n",
    "            \"Productos\": Attr(\"Precio\").between(20, 200) & Attr(\"Nombre\").contains(\"o\"),\n",
    "            \"Pedidos\": Attr(\"Cliente\").begins_with(\"A\") & Attr(\"ProductoID\").begins_with(\"P\")\n",
    "        }\n",
    "        \n",
    "        for table_name, filtro in filtros.items():\n",
    "            table = dynamodb.Table(table_name)\n",
    "            response = table.scan(FilterExpression=filtro)\n",
    "            items = response.get('Items', [])\n",
    "            print(f\"Registros filtrados en la tabla {table_name} con varios filtros: {items}\")\n",
    "    except Exception as e:\n",
    "        print(f\"Error al obtener registros con varios filtros: {e}\")\n",
    "\n",
    "obtener_registros_varios_filtros()"
   ]
  },
  {
   "cell_type": "markdown",
   "metadata": {},
   "source": [
    "10 - Utilizar PartiQL statement en cada tabla"
   ]
  },
  {
   "cell_type": "code",
   "execution_count": 11,
   "metadata": {},
   "outputs": [
    {
     "name": "stdout",
     "output_type": "stream",
     "text": [
      "Resultados para la consulta 'SELECT * FROM Usuarios WHERE Edad > 30': [{'Nombre': 'David', 'UserID': 'U4', 'Edad': Decimal('40')}, {'Nombre': 'Charlie', 'UserID': 'U3', 'Edad': Decimal('35')}]\n",
      "Resultados para la consulta 'SELECT * FROM Productos WHERE Precio > 50': [{'Precio': Decimal('200'), 'Nombre': 'Monitor', 'ProductoID': 'P4'}]\n",
      "Resultados para la consulta 'SELECT * FROM Pedidos WHERE Cliente = 'Alice Updated'': []\n"
     ]
    }
   ],
   "source": [
    "def utilizar_partiql():\n",
    "    try:\n",
    "        statements = [\n",
    "            \"SELECT * FROM Usuarios WHERE Edad > 30\",\n",
    "            \"SELECT * FROM Productos WHERE Precio > 50\",\n",
    "            \"SELECT * FROM Pedidos WHERE Cliente = 'Alice Updated'\"\n",
    "        ]\n",
    "        \n",
    "        for statement in statements:\n",
    "            response = dynamodb.meta.client.execute_statement(Statement=statement)\n",
    "            items = response.get('Items', [])\n",
    "            print(f\"Resultados para la consulta '{statement}': {items}\")\n",
    "    except Exception as e:\n",
    "        print(f\"Error al ejecutar PartiQL: {e}\")\n",
    "\n",
    "utilizar_partiql()"
   ]
  },
  {
   "cell_type": "markdown",
   "metadata": {},
   "source": [
    "11 - Crear un backup de todas las tablas "
   ]
  },
  {
   "cell_type": "code",
   "execution_count": 12,
   "metadata": {},
   "outputs": [
    {
     "name": "stdout",
     "output_type": "stream",
     "text": [
      "Backup creado para la tabla Usuarios: arn:aws:dynamodb:us-east-1:284511614577:table/Usuarios/backup/01738784906415-c2b9f014\n",
      "Backup creado para la tabla Productos: arn:aws:dynamodb:us-east-1:284511614577:table/Productos/backup/01738784906602-249ce01e\n",
      "Backup creado para la tabla Pedidos: arn:aws:dynamodb:us-east-1:284511614577:table/Pedidos/backup/01738784906764-e0ee6e6f\n"
     ]
    }
   ],
   "source": [
    "def crear_backup():\n",
    "    try:\n",
    "        table_names = [\"Usuarios\", \"Productos\", \"Pedidos\"]\n",
    "        \n",
    "        for table_name in table_names:\n",
    "            backup_name = f\"{table_name}_backup_{int(time.time())}\"\n",
    "            response = dynamodb.meta.client.create_backup(\n",
    "                TableName=table_name,\n",
    "                BackupName=backup_name\n",
    "            )\n",
    "            print(f\"Backup creado para la tabla {table_name}: {response['BackupDetails']['BackupArn']}\")\n",
    "    except Exception as e:\n",
    "        print(f\"Error al crear backup: {e}\")\n",
    "\n",
    "crear_backup()"
   ]
  },
  {
   "cell_type": "code",
   "execution_count": 13,
   "metadata": {},
   "outputs": [
    {
     "name": "stdout",
     "output_type": "stream",
     "text": [
      "Error: An error occurred (ResourceInUseException) when calling the CreateTable operation: Table already exists: Usuarios\n",
      "Registros insertados correctamente\n",
      "Registro en la tabla Usuarios: {'Nombre': 'Alice', 'UserID': 'U1', 'Edad': Decimal('30')}\n",
      "Registro en la tabla Productos: {'Precio': Decimal('1000'), 'Nombre': 'Laptop', 'ProductoID': 'P1'}\n",
      "Registro en la tabla Pedidos: {'Cliente': 'Alice', 'PedidoID': 'O1', 'ProductoID': 'P1'}\n",
      "Registro actualizado en la tabla Usuarios: {'UserID': 'U1'}\n",
      "Registro actualizado en la tabla Productos: {'ProductoID': 'P1'}\n",
      "Registro actualizado en la tabla Pedidos: {'PedidoID': 'O1'}\n",
      "Registro eliminado en la tabla Usuarios: {'UserID': 'U1'}\n",
      "Registro eliminado en la tabla Productos: {'ProductoID': 'P1'}\n",
      "Registro eliminado en la tabla Pedidos: {'PedidoID': 'O1'}\n",
      "Registros en la tabla Usuarios: [{'Nombre': 'David', 'UserID': 'U4', 'Edad': Decimal('40')}, {'Nombre': 'Charlie', 'UserID': 'U3', 'Edad': Decimal('35')}, {'Nombre': 'Bob', 'UserID': 'U2', 'Edad': Decimal('25')}]\n",
      "Registros en la tabla Productos: [{'Precio': Decimal('20'), 'Nombre': 'Mouse', 'ProductoID': 'P2'}, {'Precio': Decimal('50'), 'Nombre': 'Teclado', 'ProductoID': 'P3'}, {'Precio': Decimal('200'), 'Nombre': 'Monitor', 'ProductoID': 'P4'}]\n",
      "Registros en la tabla Pedidos: [{'Cliente': 'Charlie', 'PedidoID': 'O3', 'ProductoID': 'P3'}, {'Cliente': 'David', 'PedidoID': 'O4', 'ProductoID': 'P4'}, {'Cliente': 'Bob', 'PedidoID': 'O2', 'ProductoID': 'P2'}]\n",
      "Registros filtrados en la tabla Usuarios: [{'Nombre': 'David', 'UserID': 'U4', 'Edad': Decimal('40')}, {'Nombre': 'Charlie', 'UserID': 'U3', 'Edad': Decimal('35')}]\n",
      "Registros filtrados en la tabla Productos: [{'Precio': Decimal('200'), 'Nombre': 'Monitor', 'ProductoID': 'P4'}]\n",
      "Registros filtrados en la tabla Pedidos: []\n",
      "Registro eliminado condicionalmente en la tabla Usuarios: {'UserID': 'U2'}\n",
      "Registro eliminado condicionalmente en la tabla Productos: {'ProductoID': 'P2'}\n",
      "Registro eliminado condicionalmente en la tabla Pedidos: {'PedidoID': 'O2'}\n",
      "Registros filtrados en la tabla Usuarios con varios filtros: []\n",
      "Registros filtrados en la tabla Productos con varios filtros: [{'Precio': Decimal('50'), 'Nombre': 'Teclado', 'ProductoID': 'P3'}, {'Precio': Decimal('200'), 'Nombre': 'Monitor', 'ProductoID': 'P4'}]\n",
      "Registros filtrados en la tabla Pedidos con varios filtros: []\n",
      "Resultados para la consulta 'SELECT * FROM Usuarios WHERE Edad > 30': [{'Nombre': 'David', 'UserID': 'U4', 'Edad': Decimal('40')}, {'Nombre': 'Charlie', 'UserID': 'U3', 'Edad': Decimal('35')}]\n",
      "Resultados para la consulta 'SELECT * FROM Productos WHERE Precio > 50': [{'Precio': Decimal('200'), 'Nombre': 'Monitor', 'ProductoID': 'P4'}]\n",
      "Resultados para la consulta 'SELECT * FROM Pedidos WHERE Cliente = 'Alice Updated'': []\n",
      "Backup creado para la tabla Usuarios: arn:aws:dynamodb:us-east-1:284511614577:table/Usuarios/backup/01738784911097-67d1bb16\n",
      "Backup creado para la tabla Productos: arn:aws:dynamodb:us-east-1:284511614577:table/Productos/backup/01738784911255-82501329\n",
      "Backup creado para la tabla Pedidos: arn:aws:dynamodb:us-east-1:284511614577:table/Pedidos/backup/01738784911418-c3ca784f\n"
     ]
    }
   ],
   "source": [
    "create_tables()\n",
    "insertar_registros()\n",
    "obtener_un_registro()\n",
    "actualizar_registros()\n",
    "eliminar_registros()\n",
    "obtener_todos_los_registros()\n",
    "obtener_registros_filtrados()\n",
    "eliminacion_condicional()\n",
    "obtener_registros_varios_filtros()\n",
    "utilizar_partiql()\n",
    "crear_backup()"
   ]
  }
 ],
 "metadata": {
  "kernelspec": {
   "display_name": ".venv",
   "language": "python",
   "name": "python3"
  },
  "language_info": {
   "codemirror_mode": {
    "name": "ipython",
    "version": 3
   },
   "file_extension": ".py",
   "mimetype": "text/x-python",
   "name": "python",
   "nbconvert_exporter": "python",
   "pygments_lexer": "ipython3",
   "version": "3.12.4"
  }
 },
 "nbformat": 4,
 "nbformat_minor": 2
}
