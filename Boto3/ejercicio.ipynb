{
 "cells": [
  {
   "cell_type": "code",
   "execution_count": 35,
   "metadata": {},
   "outputs": [
    {
     "name": "stdout",
     "output_type": "stream",
     "text": [
      "CONEXION EXITOSA\n"
     ]
    }
   ],
   "source": [
    "import boto3\n",
    "from boto3.dynamodb.conditions import Key, Attr\n",
    "from dotenv import load_dotenv\n",
    "import os\n",
    "import time\n",
    "from botocore.exceptions import NoCredentialsError, PartialCredentialsError\n",
    "\n",
    "\n",
    "# Load environment variables from a .env file\n",
    "load_dotenv()\n",
    "# Retrieve the environment variables\n",
    "aws_access_key_id = os.getenv('AWS_ACCESS_KEY_ID')\n",
    "aws_secret_access_key = os.getenv('AWS_SECRET_ACCESS_KEY')\n",
    "aws_session_token = os.getenv('AWS_SESSION_TOKEN')\n",
    "region_name = os.getenv('AWS_REGION')\n",
    "\n",
    "# Initialize a session using Amazon DynamoDB\n",
    "session = boto3.Session(\n",
    "    aws_access_key_id=aws_access_key_id,\n",
    "    aws_secret_access_key=aws_secret_access_key,\n",
    "    aws_session_token=aws_session_token,\n",
    "    region_name=region_name\n",
    ")\n",
    "\n",
    "dynamodb = session.resource('dynamodb')\n",
    "print(\"CONEXION EXITOSA\")\n",
    "\n"
   ]
  },
  {
   "cell_type": "code",
   "execution_count": 37,
   "metadata": {},
   "outputs": [
    {
     "name": "stdout",
     "output_type": "stream",
     "text": [
      "Tabla Usuarios creada correctamente\n",
      "Tabla Productos creada correctamente\n",
      "Tabla Pedidos creada correctamente\n"
     ]
    }
   ],
   "source": [
    "# Función para crear tablas\n",
    "def create_tables():\n",
    "    try:\n",
    "        for table_name, pk in [(\"Usuarios\", \"UserID\"), (\"Productos\", \"ProductoID\"), (\"Pedidos\", \"PedidoID\")]:\n",
    "            table = dynamodb.create_table(\n",
    "                TableName=table_name,\n",
    "                KeySchema=[{\"AttributeName\": pk, \"KeyType\": \"HASH\"}],\n",
    "                AttributeDefinitions=[{\"AttributeName\": pk, \"AttributeType\": \"S\"}],\n",
    "                ProvisionedThroughput={\"ReadCapacityUnits\": 5, \"WriteCapacityUnits\": 5}\n",
    "            )\n",
    "            table.wait_until_exists()\n",
    "            print(f\"Tabla {table_name} creada correctamente\")\n",
    "    except Exception as e:\n",
    "        print(f\"Error: {e}\")\n",
    "\n",
    "create_tables()"
   ]
  },
  {
   "cell_type": "code",
   "execution_count": 38,
   "metadata": {},
   "outputs": [
    {
     "name": "stdout",
     "output_type": "stream",
     "text": [
      "Datos insertados en la tabla Usuarios: {'UserID': 'U1', 'Nombre': 'Alice'}\n",
      "Verificación de inserción exitosa en Usuarios: {'Nombre': 'Alice', 'UserID': 'U1'}\n",
      "Datos insertados en la tabla Productos: {'ProductoID': 'P1', 'Nombre': 'Laptop'}\n",
      "Verificación de inserción exitosa en Productos: {'Nombre': 'Laptop', 'ProductoID': 'P1'}\n",
      "Datos insertados en la tabla Pedidos: {'PedidoID': 'O1', 'Cliente': 'Alice'}\n",
      "Verificación de inserción exitosa en Pedidos: {'Cliente': 'Alice', 'PedidoID': 'O1'}\n",
      "Todos los datos fueron insertados correctamente.\n"
     ]
    }
   ],
   "source": [
    "# Función para insertar datos\n",
    "def insert_data():\n",
    "    try:\n",
    "        data = [\n",
    "            (\"Usuarios\", {\"UserID\": \"U1\", \"Nombre\": \"Alice\"}),\n",
    "            (\"Productos\", {\"ProductoID\": \"P1\", \"Nombre\": \"Laptop\"}),\n",
    "            (\"Pedidos\", {\"PedidoID\": \"O1\", \"Cliente\": \"Alice\"})\n",
    "        ]\n",
    "        \n",
    "        for table_name, item in data:\n",
    "            table = dynamodb.Table(table_name)\n",
    "            # Inserta el ítem\n",
    "            table.put_item(Item=item)\n",
    "            print(f\"Datos insertados en la tabla {table_name}: {item}\")\n",
    "            \n",
    "            # Verificación de la inserción\n",
    "            response = table.get_item(Key={list(item.keys())[0]: list(item.values())[0]})\n",
    "            if 'Item' in response:\n",
    "                print(f\"Verificación de inserción exitosa en {table_name}: {response['Item']}\")\n",
    "            else:\n",
    "                print(f\"No se encontró el registro insertado en {table_name}.\")\n",
    "        \n",
    "        print(\"Todos los datos fueron insertados correctamente.\")\n",
    "    except Exception as e:\n",
    "        print(f\"Error al insertar datos: {e}\")\n",
    "insert_data()"
   ]
  },
  {
   "cell_type": "code",
   "execution_count": 41,
   "metadata": {},
   "outputs": [
    {
     "name": "stdout",
     "output_type": "stream",
     "text": [
      "Registros en la tabla Usuarios: [{'Nombre': 'Alice Updated', 'UserID': 'U1'}]\n",
      "Registros en la tabla Productos: [{'Nombre': 'Laptop Updated', 'ProductoID': 'P1'}]\n",
      "Registros en la tabla Pedidos: [{'Cliente': 'Alice Updated', 'PedidoID': 'O1'}]\n"
     ]
    }
   ],
   "source": [
    "def obtener_registros():\n",
    "    try:\n",
    "        for table_name in [\"Usuarios\", \"Productos\", \"Pedidos\"]:\n",
    "            table = dynamodb.Table(table_name)\n",
    "            response = table.scan()\n",
    "            items = response.get('Items', [])\n",
    "            print(f\"Registros en la tabla {table_name}: {items}\")\n",
    "    except Exception as e:\n",
    "        print(f\"Error al obtener registros: {e}\")\n",
    "\n",
    "obtener_registros()"
   ]
  },
  {
   "cell_type": "code",
   "execution_count": 40,
   "metadata": {
    "vscode": {
     "languageId": "lua"
    }
   },
   "outputs": [
    {
     "name": "stdout",
     "output_type": "stream",
     "text": [
      "Registro actualizado en la tabla Usuarios: {'UserID': 'U1'}\n",
      "Registro actualizado en la tabla Productos: {'ProductoID': 'P1'}\n",
      "Registro actualizado en la tabla Pedidos: {'PedidoID': 'O1'}\n",
      "Todos los registros fueron actualizados correctamente.\n"
     ]
    }
   ],
   "source": [
    "def actualizar_registros():\n",
    "    try:\n",
    "        updates = [\n",
    "            (\"Usuarios\", {\"UserID\": \"U1\"}, \"SET Nombre = :nombre\", {\":nombre\": \"Alice Updated\"}),\n",
    "            (\"Productos\", {\"ProductoID\": \"P1\"}, \"SET Nombre = :nombre\", {\":nombre\": \"Laptop Updated\"}),\n",
    "            (\"Pedidos\", {\"PedidoID\": \"O1\"}, \"SET Cliente = :cliente\", {\":cliente\": \"Alice Updated\"})\n",
    "        ]\n",
    "        \n",
    "        for table_name, key, update_expression, expression_attribute_values in updates:\n",
    "            table = dynamodb.Table(table_name)\n",
    "            # Obtener el registro antes de la actualización\n",
    "            response_before = table.get_item(Key=key)\n",
    "            item_before = response_before.get('Item', {})\n",
    "            \n",
    "            # Actualizar el registro\n",
    "            table.update_item(\n",
    "                Key=key,\n",
    "                UpdateExpression=update_expression,\n",
    "                ExpressionAttributeValues=expression_attribute_values\n",
    "            )\n",
    "            print(f\"Registro actualizado en la tabla {table_name}: {key}\")\n",
    "            \n",
    "            # Obtener el registro después de la actualización\n",
    "            response_after = table.get_item(Key=key)\n",
    "            item_after = response_after.get('Item', {})\n",
    "            \n",
    "            # Mostrar los registros antes y después de la actualización\n",
    "            print(f\"Registro antes de la actualización en {table_name}: {item_before}\")\n",
    "            print(f\"Registro después de la actualización en {table_name}: {item_after}\")\n",
    "        \n",
    "        print(\"Todos los registros fueron actualizados correctamente.\")\n",
    "    except Exception as e:\n",
    "        print(f\"Error al actualizar registros: {e}\")\n",
    "\n",
    "actualizar_registros()"
   ]
  },
  {
   "cell_type": "code",
   "execution_count": 44,
   "metadata": {},
   "outputs": [
    {
     "name": "stdout",
     "output_type": "stream",
     "text": [
      "El registro en la tabla Usuarios fue eliminado correctamente.\n",
      "El registro en la tabla Productos fue eliminado correctamente.\n",
      "El registro en la tabla Pedidos fue eliminado correctamente.\n"
     ]
    }
   ],
   "source": [
    "# Verificar eliminación de registros\n",
    "def verificar_eliminacion():\n",
    "    try:\n",
    "        for table_name, key in [(\"Usuarios\", {\"UserID\": \"U1\"}), (\"Productos\", {\"ProductoID\": \"P1\"}), (\"Pedidos\", {\"PedidoID\": \"O1\"})]:\n",
    "            table = dynamodb.Table(table_name)\n",
    "            response = table.get_item(Key=key)\n",
    "            if 'Item' in response:\n",
    "                print(f\"El registro en la tabla {table_name} no se eliminó: {response['Item']}\")\n",
    "            else:\n",
    "                print(f\"El registro en la tabla {table_name} fue eliminado correctamente.\")\n",
    "    except Exception as e:\n",
    "        print(f\"Error al verificar eliminación de registros: {e}\")\n",
    "\n",
    "verificar_eliminacion()"
   ]
  },
  {
   "cell_type": "code",
   "execution_count": 45,
   "metadata": {},
   "outputs": [
    {
     "name": "stdout",
     "output_type": "stream",
     "text": [
      "Registros en la tabla Usuarios: []\n",
      "Registros en la tabla Productos: []\n",
      "Registros en la tabla Pedidos: []\n"
     ]
    }
   ],
   "source": [
    "obtener_registros()"
   ]
  },
  {
   "cell_type": "code",
   "execution_count": null,
   "metadata": {},
   "outputs": [],
   "source": []
  }
 ],
 "metadata": {
  "kernelspec": {
   "display_name": ".venv",
   "language": "python",
   "name": "python3"
  },
  "language_info": {
   "codemirror_mode": {
    "name": "ipython",
    "version": 3
   },
   "file_extension": ".py",
   "mimetype": "text/x-python",
   "name": "python",
   "nbconvert_exporter": "python",
   "pygments_lexer": "ipython3",
   "version": "3.12.4"
  }
 },
 "nbformat": 4,
 "nbformat_minor": 2
}
